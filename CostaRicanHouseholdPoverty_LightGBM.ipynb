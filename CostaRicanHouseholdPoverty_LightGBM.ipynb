{
 "cells": [
  {
   "cell_type": "markdown",
   "metadata": {
    "_uuid": "022581634173ec99a0df214afeaa482165f1c32b"
   },
   "source": [
    "# Costa Rican Household Poverty Level Prediction\n",
    "\n",
    "\n",
    "\"The Inter-American Development Bank is asking the Kaggle community for help with income qualification for some of the world's poorest families. [...]\n",
    "\n",
    "Here's the backstory: Many social programs have a hard time making sure the right people are given enough aid. It’s especially tricky when a program focuses on the poorest segment of the population. The world’s poorest typically can’t provide the necessary income and expense records to prove that they qualify. [...]\"\n",
    "\n",
    "For more information on the competition and to download the training and test data see here: https://www.kaggle.com/c/costa-rican-household-poverty-prediction#description\n",
    "\n",
    "This notebook shows basic data cleaning, feature engineering and the usage of a LightGBM model."
   ]
  },
  {
   "cell_type": "code",
   "execution_count": 3,
   "metadata": {
    "_cell_guid": "b1076dfc-b9ad-4769-8c92-a6c4dae69d19",
    "_uuid": "8f2839f25d086af736a60e9eeb907d3b93b6e0e5"
   },
   "outputs": [
    {
     "name": "stdout",
     "output_type": "stream",
     "text": [
      "['test.csv', 'train.csv']\n"
     ]
    }
   ],
   "source": [
    "# load necessary libraries\n",
    "\n",
    "import numpy as np # linear algebra\n",
    "import pandas as pd # data processing, CSV file I/O (e.g. pd.read_csv)\n",
    "from xgboost import XGBClassifier\n",
    "import lightgbm as lgb\n",
    "from sklearn.metrics import roc_auc_score, roc_curve\n",
    "from sklearn.model_selection import KFold, StratifiedKFold\n",
    "from sklearn.model_selection import train_test_split\n",
    "from sklearn.metrics import get_scorer\n",
    "import sklearn\n",
    "\n",
    "# Input data files:\n",
    "\n",
    "import os\n",
    "print(os.listdir(\"data\"))"
   ]
  },
  {
   "cell_type": "markdown",
   "metadata": {
    "_uuid": "08018212effd686f8ac786ebe844d3aebad77ff9"
   },
   "source": [
    "## Data cleaning and feature engineering\n",
    "\n",
    "First of all training and test data are loaded."
   ]
  },
  {
   "cell_type": "code",
   "execution_count": 16,
   "metadata": {
    "_cell_guid": "79c7e3d0-c299-4dcb-8224-4455121ee9b0",
    "_uuid": "d629ff2d2480ee46fbb7e2d37f6b5fab8052498a",
    "collapsed": true
   },
   "outputs": [],
   "source": [
    "df = pd.read_csv('data/train.csv')\n",
    "df_test = pd.read_csv('data/test.csv')"
   ]
  },
  {
   "cell_type": "markdown",
   "metadata": {
    "_uuid": "f21b63f421e3b75092b27c92f5a14671dfc001be"
   },
   "source": [
    "Let's have a look at the data:"
   ]
  },
  {
   "cell_type": "code",
   "execution_count": 5,
   "metadata": {
    "_uuid": "6f63d7a77ad8802de4ae0e1de11b900fa828521c"
   },
   "outputs": [
    {
     "data": {
      "text/html": [
       "<div>\n",
       "<style>\n",
       "    .dataframe thead tr:only-child th {\n",
       "        text-align: right;\n",
       "    }\n",
       "\n",
       "    .dataframe thead th {\n",
       "        text-align: left;\n",
       "    }\n",
       "\n",
       "    .dataframe tbody tr th {\n",
       "        vertical-align: top;\n",
       "    }\n",
       "</style>\n",
       "<table border=\"1\" class=\"dataframe\">\n",
       "  <thead>\n",
       "    <tr style=\"text-align: right;\">\n",
       "      <th></th>\n",
       "      <th>Id</th>\n",
       "      <th>v2a1</th>\n",
       "      <th>hacdor</th>\n",
       "      <th>rooms</th>\n",
       "      <th>hacapo</th>\n",
       "      <th>v14a</th>\n",
       "      <th>refrig</th>\n",
       "      <th>v18q</th>\n",
       "      <th>v18q1</th>\n",
       "      <th>r4h1</th>\n",
       "      <th>...</th>\n",
       "      <th>SQBescolari</th>\n",
       "      <th>SQBage</th>\n",
       "      <th>SQBhogar_total</th>\n",
       "      <th>SQBedjefe</th>\n",
       "      <th>SQBhogar_nin</th>\n",
       "      <th>SQBovercrowding</th>\n",
       "      <th>SQBdependency</th>\n",
       "      <th>SQBmeaned</th>\n",
       "      <th>agesq</th>\n",
       "      <th>Target</th>\n",
       "    </tr>\n",
       "  </thead>\n",
       "  <tbody>\n",
       "    <tr>\n",
       "      <th>0</th>\n",
       "      <td>ID_279628684</td>\n",
       "      <td>190000.0</td>\n",
       "      <td>0</td>\n",
       "      <td>3</td>\n",
       "      <td>0</td>\n",
       "      <td>1</td>\n",
       "      <td>1</td>\n",
       "      <td>0</td>\n",
       "      <td>NaN</td>\n",
       "      <td>0</td>\n",
       "      <td>...</td>\n",
       "      <td>100</td>\n",
       "      <td>1849</td>\n",
       "      <td>1</td>\n",
       "      <td>100</td>\n",
       "      <td>0</td>\n",
       "      <td>1.000000</td>\n",
       "      <td>0.0</td>\n",
       "      <td>100.0</td>\n",
       "      <td>1849</td>\n",
       "      <td>4</td>\n",
       "    </tr>\n",
       "    <tr>\n",
       "      <th>1</th>\n",
       "      <td>ID_f29eb3ddd</td>\n",
       "      <td>135000.0</td>\n",
       "      <td>0</td>\n",
       "      <td>4</td>\n",
       "      <td>0</td>\n",
       "      <td>1</td>\n",
       "      <td>1</td>\n",
       "      <td>1</td>\n",
       "      <td>1.0</td>\n",
       "      <td>0</td>\n",
       "      <td>...</td>\n",
       "      <td>144</td>\n",
       "      <td>4489</td>\n",
       "      <td>1</td>\n",
       "      <td>144</td>\n",
       "      <td>0</td>\n",
       "      <td>1.000000</td>\n",
       "      <td>64.0</td>\n",
       "      <td>144.0</td>\n",
       "      <td>4489</td>\n",
       "      <td>4</td>\n",
       "    </tr>\n",
       "    <tr>\n",
       "      <th>2</th>\n",
       "      <td>ID_68de51c94</td>\n",
       "      <td>NaN</td>\n",
       "      <td>0</td>\n",
       "      <td>8</td>\n",
       "      <td>0</td>\n",
       "      <td>1</td>\n",
       "      <td>1</td>\n",
       "      <td>0</td>\n",
       "      <td>NaN</td>\n",
       "      <td>0</td>\n",
       "      <td>...</td>\n",
       "      <td>121</td>\n",
       "      <td>8464</td>\n",
       "      <td>1</td>\n",
       "      <td>0</td>\n",
       "      <td>0</td>\n",
       "      <td>0.250000</td>\n",
       "      <td>64.0</td>\n",
       "      <td>121.0</td>\n",
       "      <td>8464</td>\n",
       "      <td>4</td>\n",
       "    </tr>\n",
       "    <tr>\n",
       "      <th>3</th>\n",
       "      <td>ID_d671db89c</td>\n",
       "      <td>180000.0</td>\n",
       "      <td>0</td>\n",
       "      <td>5</td>\n",
       "      <td>0</td>\n",
       "      <td>1</td>\n",
       "      <td>1</td>\n",
       "      <td>1</td>\n",
       "      <td>1.0</td>\n",
       "      <td>0</td>\n",
       "      <td>...</td>\n",
       "      <td>81</td>\n",
       "      <td>289</td>\n",
       "      <td>16</td>\n",
       "      <td>121</td>\n",
       "      <td>4</td>\n",
       "      <td>1.777778</td>\n",
       "      <td>1.0</td>\n",
       "      <td>121.0</td>\n",
       "      <td>289</td>\n",
       "      <td>4</td>\n",
       "    </tr>\n",
       "    <tr>\n",
       "      <th>4</th>\n",
       "      <td>ID_d56d6f5f5</td>\n",
       "      <td>180000.0</td>\n",
       "      <td>0</td>\n",
       "      <td>5</td>\n",
       "      <td>0</td>\n",
       "      <td>1</td>\n",
       "      <td>1</td>\n",
       "      <td>1</td>\n",
       "      <td>1.0</td>\n",
       "      <td>0</td>\n",
       "      <td>...</td>\n",
       "      <td>121</td>\n",
       "      <td>1369</td>\n",
       "      <td>16</td>\n",
       "      <td>121</td>\n",
       "      <td>4</td>\n",
       "      <td>1.777778</td>\n",
       "      <td>1.0</td>\n",
       "      <td>121.0</td>\n",
       "      <td>1369</td>\n",
       "      <td>4</td>\n",
       "    </tr>\n",
       "  </tbody>\n",
       "</table>\n",
       "<p>5 rows × 143 columns</p>\n",
       "</div>"
      ],
      "text/plain": [
       "             Id      v2a1  hacdor  rooms  hacapo  v14a  refrig  v18q  v18q1  \\\n",
       "0  ID_279628684  190000.0       0      3       0     1       1     0    NaN   \n",
       "1  ID_f29eb3ddd  135000.0       0      4       0     1       1     1    1.0   \n",
       "2  ID_68de51c94       NaN       0      8       0     1       1     0    NaN   \n",
       "3  ID_d671db89c  180000.0       0      5       0     1       1     1    1.0   \n",
       "4  ID_d56d6f5f5  180000.0       0      5       0     1       1     1    1.0   \n",
       "\n",
       "   r4h1   ...    SQBescolari  SQBage  SQBhogar_total  SQBedjefe  SQBhogar_nin  \\\n",
       "0     0   ...            100    1849               1        100             0   \n",
       "1     0   ...            144    4489               1        144             0   \n",
       "2     0   ...            121    8464               1          0             0   \n",
       "3     0   ...             81     289              16        121             4   \n",
       "4     0   ...            121    1369              16        121             4   \n",
       "\n",
       "   SQBovercrowding  SQBdependency  SQBmeaned  agesq  Target  \n",
       "0         1.000000            0.0      100.0   1849       4  \n",
       "1         1.000000           64.0      144.0   4489       4  \n",
       "2         0.250000           64.0      121.0   8464       4  \n",
       "3         1.777778            1.0      121.0    289       4  \n",
       "4         1.777778            1.0      121.0   1369       4  \n",
       "\n",
       "[5 rows x 143 columns]"
      ]
     },
     "execution_count": 5,
     "metadata": {},
     "output_type": "execute_result"
    }
   ],
   "source": [
    "df.head()"
   ]
  },
  {
   "cell_type": "markdown",
   "metadata": {
    "_uuid": "00f8242cc8c0b248b2442b6d54600995933a5069"
   },
   "source": [
    "LGBM can only be used with integer or float values, so we need to find any columns with type 'object' first and convert them to numbers."
   ]
  },
  {
   "cell_type": "code",
   "execution_count": 6,
   "metadata": {
    "_uuid": "1189e0926b319370eac6975b1c5ec2c559d8fb5e"
   },
   "outputs": [
    {
     "data": {
      "text/plain": [
       "['Id', 'idhogar', 'dependency', 'edjefe', 'edjefa']"
      ]
     },
     "execution_count": 6,
     "metadata": {},
     "output_type": "execute_result"
    }
   ],
   "source": [
    "categorical_columns = [col for col in df.columns if df[col].dtype == 'object']\n",
    "categorical_columns"
   ]
  },
  {
   "cell_type": "markdown",
   "metadata": {
    "_uuid": "a56c80791d28b06e988d33d8425d75213ba95e79"
   },
   "source": [
    "Replace 'yes' and 'no' -values in columns 'dependency', 'edjefe' and 'edjefa' with 1 and 0 respectivly. Id and idhogar can be ignored as they won't be used as features in the model."
   ]
  },
  {
   "cell_type": "code",
   "execution_count": 17,
   "metadata": {
    "_uuid": "d978bbf57e1c8ce7ecf4cf2f9c3952e63ca1eb78",
    "collapsed": true
   },
   "outputs": [],
   "source": [
    "def replace_yes_no(df):\n",
    "    df[['dependency', 'edjefe', 'edjefa']] = df[['dependency','edjefe', 'edjefa']].replace({'yes':1, 'no':1}).astype(float)\n",
    "    return df\n",
    "\n",
    "df = replace_yes_no(df)\n",
    "df_test = replace_yes_no(df_test)"
   ]
  },
  {
   "cell_type": "markdown",
   "metadata": {
    "_uuid": "57e9884bbd6163df160746158292248a231df1c3"
   },
   "source": [
    "The variable v18q indicates whether the household owns a tablet, while v18q1 contains the number of tablets the household owns. \n",
    "v18q1 is null when v18q = 0, so null values in v18q1 are replaced with 0 and v18q is discarded."
   ]
  },
  {
   "cell_type": "code",
   "execution_count": 18,
   "metadata": {
    "_uuid": "2cb1c4d620b2a52eba73061cb185d5d67a6a9599"
   },
   "outputs": [
    {
     "name": "stderr",
     "output_type": "stream",
     "text": [
      "C:\\Users\\Stefanie\\Anaconda3\\lib\\site-packages\\ipykernel_launcher.py:2: SettingWithCopyWarning: \n",
      "A value is trying to be set on a copy of a slice from a DataFrame\n",
      "\n",
      "See the caveats in the documentation: http://pandas.pydata.org/pandas-docs/stable/indexing.html#indexing-view-versus-copy\n",
      "  \n"
     ]
    }
   ],
   "source": [
    "def tablets(df):\n",
    "    df['v18q1'][df['v18q1'].isnull()] = 0\n",
    "    df = df.drop(['v18q'], axis = 1)\n",
    "    return df\n",
    "\n",
    "df = tablets(df)\n",
    "df_test = tablets(df_test)"
   ]
  },
  {
   "cell_type": "markdown",
   "metadata": {
    "_uuid": "484308fce0711332a8b570dd63e5e56edde5402c"
   },
   "source": [
    "Aggregate escolari per household (on idhogar) using mean and max"
   ]
  },
  {
   "cell_type": "code",
   "execution_count": 19,
   "metadata": {
    "_uuid": "4071a6183c578c284dafda0193eaa439707c43c9",
    "collapsed": true
   },
   "outputs": [],
   "source": [
    "def escolari(df):\n",
    "    escolari_mean = df.groupby(['idhogar'], as_index = False)['escolari'].mean().rename(columns = {'mean': 'escolari_mean'})\n",
    "    escolari_mean.columns = ['idhogar', 'escolari_mean']\n",
    "\n",
    "    escolari_max = df.groupby(['idhogar'], as_index = False)['escolari'].max().rename(columns = {'max': 'escolari_max'})\n",
    "    escolari_max.columns = ['idhogar', 'escolari_max']\n",
    "\n",
    "    df = df.merge(escolari_mean, how = 'left', on = 'idhogar')\n",
    "    df = df.merge(escolari_max, how = 'left', on = 'idhogar')\n",
    "    \n",
    "    return df\n",
    "\n",
    "df = escolari(df)\n",
    "df_test = escolari(df_test)"
   ]
  },
  {
   "cell_type": "markdown",
   "metadata": {
    "_uuid": "e1aec8e421c9b988fb0fbe411385e4461ce3f53e"
   },
   "source": [
    "There are several binary variables that can be combined to one ordinal variable:\n",
    "\n",
    "1. water provision (columns abastaguadentro, abastaguafuera, abastaguano)\n",
    "2. walls (columns epared1, epared2, epared3)\n",
    "3. roof (columns etecho1, etecho2, etecho3)\n",
    "4. floor (columns eviv1 eviv2, eviv3)\n",
    "5. education level (columns instlevel1 to instlevel9)\n",
    "6. tipovivi (columns tipovivi1 to tipovivi5)\n",
    "7. rubbish (columns elimbasu1 to elimbasu6)\n",
    "8. energy (colulmns energcocinar1 to energcocinar4)\n",
    "9. toilet (columns sanitario1 to sanitario6)"
   ]
  },
  {
   "cell_type": "markdown",
   "metadata": {
    "_uuid": "e3ada7f16c136a1c4c66d013980dcf71ebbe08f0"
   },
   "source": [
    "Water provision:"
   ]
  },
  {
   "cell_type": "code",
   "execution_count": 20,
   "metadata": {
    "_uuid": "095d7253c67eea8c942e1d596dc05f18ea16a97f",
    "collapsed": true
   },
   "outputs": [],
   "source": [
    "def water_provision(df):\n",
    "    df['water_prov'] = 0\n",
    "    df.loc[df['abastaguadentro'] == 1, 'water_prov'] = 2\n",
    "    df.loc[df['abastaguafuera'] == 1, 'water_prov'] = 1\n",
    "    df.loc[df['abastaguano'] == 1, 'water_prov'] = 0\n",
    "    df = df.drop(['abastaguadentro','abastaguafuera', 'abastaguano'], axis = 1)\n",
    "    return df\n",
    "\n",
    "df = water_provision(df)\n",
    "df_test = water_provision(df_test)"
   ]
  },
  {
   "cell_type": "markdown",
   "metadata": {
    "_uuid": "1b0ed1a578cef4926e97b029b76d2ab1c5bb1767"
   },
   "source": [
    "Walls, roof and floor:"
   ]
  },
  {
   "cell_type": "code",
   "execution_count": 21,
   "metadata": {
    "_uuid": "30685b7f9969e54e2743fd5712faee7465dc401a",
    "collapsed": true
   },
   "outputs": [],
   "source": [
    "def walls_roof_floor(df):\n",
    "    df['walls'] = 0\n",
    "    df.loc[df['epared1'] == 1, 'walls'] = 1\n",
    "    df.loc[df['epared2'] == 1, 'walls'] = 2\n",
    "    df.loc[df['epared3'] == 1, 'walls'] = 3\n",
    "    \n",
    "    df['roof'] = 0\n",
    "    df.loc[df['etecho1'] == 1, 'roof'] = 1\n",
    "    df.loc[df['etecho2'] == 1, 'roof'] = 2\n",
    "    df.loc[df['etecho3'] == 1, 'roof'] = 3\n",
    "        \n",
    "    df['floor'] = 0\n",
    "    df.loc[df['eviv1'] == 1, 'floor'] = 1\n",
    "    df.loc[df['eviv2'] == 1, 'floor'] = 2\n",
    "    df.loc[df['eviv3'] == 1, 'floor'] = 3\n",
    "\n",
    "    df = df.drop(['epared1','epared2', 'epared3', 'etecho1', 'etecho2', 'etecho3', 'eviv1', 'eviv2', 'eviv3'], axis = 1)\n",
    "    \n",
    "    return df\n",
    "\n",
    "df = walls_roof_floor(df)\n",
    "df_test = walls_roof_floor(df_test)"
   ]
  },
  {
   "cell_type": "markdown",
   "metadata": {
    "_uuid": "70b497b4319a1599a7edc0f054aaa27321485b6a"
   },
   "source": [
    "Education level:"
   ]
  },
  {
   "cell_type": "code",
   "execution_count": 22,
   "metadata": {
    "_uuid": "757c45a186bf2fb4c9b07506b7b1c0ec53f40575",
    "collapsed": true
   },
   "outputs": [],
   "source": [
    "def education_level(df):\n",
    "    df['education'] = 0\n",
    "    df.loc[df['instlevel1'] == 1, 'education'] = 1\n",
    "    df.loc[df['instlevel2'] == 1, 'education'] = 2\n",
    "    df.loc[df['instlevel3'] == 1, 'education'] = 3\n",
    "    df.loc[df['instlevel4'] == 1, 'education'] = 4\n",
    "    df.loc[df['instlevel5'] == 1, 'education'] = 5\n",
    "    df.loc[df['instlevel6'] == 1, 'education'] = 6\n",
    "    df.loc[df['instlevel7'] == 1, 'education'] = 7\n",
    "    df.loc[df['instlevel8'] == 1, 'education'] = 8\n",
    "    df.loc[df['instlevel9'] == 1, 'education'] = 9\n",
    "\n",
    "    df = df.drop(['instlevel1','instlevel2', 'instlevel3', 'instlevel4', 'instlevel5', 'instlevel6', 'instlevel7', 'instlevel8', 'instlevel9'], axis = 1)\n",
    "    \n",
    "    return df\n",
    "\n",
    "df = education_level(df)\n",
    "df_test = education_level(df_test)"
   ]
  },
  {
   "cell_type": "markdown",
   "metadata": {
    "_uuid": "0d3567b86e4731b5f412312b422e8858393033ec"
   },
   "source": [
    "Tipovivi:"
   ]
  },
  {
   "cell_type": "code",
   "execution_count": 23,
   "metadata": {
    "_uuid": "5b4ddc2b2e7d18d62c7530bf703d7aa75a4fd5f7",
    "collapsed": true
   },
   "outputs": [],
   "source": [
    "def tipovivi(df):\n",
    "    df['tipovivi'] = 0\n",
    "    df.loc[df['tipovivi1'] == 1, 'tipovivi'] = 1\n",
    "    df.loc[df['tipovivi2'] == 1, 'tipovivi'] = 2\n",
    "    df.loc[df['tipovivi3'] == 1, 'tipovivi'] = 3\n",
    "    df.loc[df['tipovivi4'] == 1, 'tipovivi'] = 4\n",
    "    df.loc[df['tipovivi5'] == 1, 'tipovivi'] = 5\n",
    "    \n",
    "    df = df.drop(['tipovivi1','tipovivi2', 'tipovivi3', 'tipovivi4', 'tipovivi5'], axis = 1)\n",
    "    \n",
    "    return df\n",
    "\n",
    "df = tipovivi(df)\n",
    "df_test = tipovivi(df_test)"
   ]
  },
  {
   "cell_type": "markdown",
   "metadata": {
    "_uuid": "dcff3838fb75aa95e22154a5e4d4098308739c6e"
   },
   "source": [
    "Rubbish:"
   ]
  },
  {
   "cell_type": "code",
   "execution_count": 24,
   "metadata": {
    "_uuid": "099155077ec58a1d5774113edcac17d53ba38a36",
    "collapsed": true
   },
   "outputs": [],
   "source": [
    "def rubbish(df):\n",
    "    df['rubbish'] = 0\n",
    "    df.loc[df['elimbasu1'] == 1, 'rubbish'] = 1\n",
    "    df.loc[df['elimbasu2'] == 1, 'rubbish'] = 2\n",
    "    df.loc[df['elimbasu3'] == 1, 'rubbish'] = 3\n",
    "    df.loc[df['elimbasu4'] == 1, 'rubbish'] = 4\n",
    "    df.loc[df['elimbasu5'] == 1, 'rubbish'] = 5\n",
    "    df.loc[df['elimbasu6'] == 1, 'rubbish'] = 0\n",
    "    \n",
    "    df = df.drop(['elimbasu1','elimbasu2', 'elimbasu3', 'elimbasu4', 'elimbasu5', 'elimbasu6'], axis = 1)\n",
    "    \n",
    "    return df\n",
    "\n",
    "df = rubbish(df)\n",
    "df_test = rubbish(df_test)"
   ]
  },
  {
   "cell_type": "markdown",
   "metadata": {
    "_uuid": "c694e7059d40b4058d770c0ff0f0e675eb8b22d5"
   },
   "source": [
    "Energy used for cooking:"
   ]
  },
  {
   "cell_type": "code",
   "execution_count": 25,
   "metadata": {
    "_uuid": "9d378b3cd9579e64044535c3cbc95d38a8b75c9e",
    "collapsed": true
   },
   "outputs": [],
   "source": [
    "def energy(df):\n",
    "    df['energy'] = 0\n",
    "    df.loc[df['energcocinar1'] == 1, 'energy'] = 1\n",
    "    df.loc[df['energcocinar2'] == 1, 'energy'] = 2\n",
    "    df.loc[df['energcocinar3'] == 1, 'energy'] = 3\n",
    "    df.loc[df['energcocinar4'] == 1, 'energy'] = 4\n",
    "    \n",
    "    df = df.drop(['energcocinar1','energcocinar2', 'energcocinar3', 'energcocinar4'], axis = 1)\n",
    "    \n",
    "    return df\n",
    "\n",
    "df = energy(df)\n",
    "df_test = energy(df_test)"
   ]
  },
  {
   "cell_type": "markdown",
   "metadata": {
    "_uuid": "2f49872d9030d22aa5a78ee783986e3fa8bdfd8f"
   },
   "source": [
    "Toilet:"
   ]
  },
  {
   "cell_type": "code",
   "execution_count": 27,
   "metadata": {
    "_uuid": "52fcc480ed86ca39c0b4e5c85a0cc45f69d56ac1"
   },
   "outputs": [],
   "source": [
    "def toilet(df):\n",
    "    df['toilet'] = 0\n",
    "    df.loc[df['sanitario1'] == 1, 'toilet'] = 1\n",
    "    df.loc[df['sanitario5'] == 1, 'toilet'] = 2\n",
    "    df.loc[df['sanitario6'] == 1, 'toilet'] = 3\n",
    "    df.loc[df['sanitario3'] == 1, 'toilet'] = 4\n",
    "    df.loc[df['sanitario2'] == 1, 'toilet'] = 5\n",
    "       \n",
    "    df = df.drop(['sanitario1','sanitario2', 'sanitario3', 'sanitario5', 'sanitario6'], axis = 1)\n",
    "    \n",
    "    return df\n",
    "\n",
    "df = toilet(df)\n",
    "df_test = toilet(df_test)"
   ]
  },
  {
   "cell_type": "markdown",
   "metadata": {
    "_uuid": "5f32cd4a4106f611344622c312f26153e85824cb"
   },
   "source": [
    "Create new variables that might prove useful"
   ]
  },
  {
   "cell_type": "code",
   "execution_count": 28,
   "metadata": {
    "_uuid": "010fc6f9ebf5e60d417cb39379eecf97a4d8bed6",
    "collapsed": true
   },
   "outputs": [],
   "source": [
    "def new_variables(df):\n",
    "    df['rent_by_hhsize'] = df['v2a1'] / df['hhsize'] # rent by household size\n",
    "    df['rent_by_people'] = df['v2a1'] / df['r4t3'] # rent by people in household\n",
    "    df['rent_by_rooms'] = df['v2a1'] / df['rooms'] # rent by number of rooms\n",
    "    df['rent_by_living'] = df['v2a1'] / df['tamviv'] # rent by number of persons living in the household\n",
    "    df['rent_by_minor'] = df['v2a1'] / df['hogar_nin']\n",
    "    df['rent_by_adult'] = df['v2a1'] / df['hogar_adul']\n",
    "    df['children_by_adults'] = df['hogar_nin'] / df['hogar_adul']\n",
    "    df['house_quali'] = df['walls'] + df['roof'] + df['floor']\n",
    "    df['tablets_by_adults'] = df['v18q1'] / df['hogar_adul'] # number of tablets per adults\n",
    "    df['ratio_nin'] = df['hogar_nin'] / df['hogar_adul'] # ratio children to adults\n",
    "    return df\n",
    "\n",
    "df = new_variables(df)\n",
    "df_test = new_variables(df_test)"
   ]
  },
  {
   "cell_type": "markdown",
   "metadata": {
    "_uuid": "55f990f35e87a2a1ab783df2b4de49c4014d6fc7"
   },
   "source": [
    "Now let's take a look at the data:"
   ]
  },
  {
   "cell_type": "code",
   "execution_count": 29,
   "metadata": {
    "_uuid": "e17dfcd9692b1b00ea80e1bf5224b15642073814"
   },
   "outputs": [
    {
     "data": {
      "text/html": [
       "<div>\n",
       "<style>\n",
       "    .dataframe thead tr:only-child th {\n",
       "        text-align: right;\n",
       "    }\n",
       "\n",
       "    .dataframe thead th {\n",
       "        text-align: left;\n",
       "    }\n",
       "\n",
       "    .dataframe tbody tr th {\n",
       "        vertical-align: top;\n",
       "    }\n",
       "</style>\n",
       "<table border=\"1\" class=\"dataframe\">\n",
       "  <thead>\n",
       "    <tr style=\"text-align: right;\">\n",
       "      <th></th>\n",
       "      <th>Id</th>\n",
       "      <th>v2a1</th>\n",
       "      <th>hacdor</th>\n",
       "      <th>rooms</th>\n",
       "      <th>hacapo</th>\n",
       "      <th>v14a</th>\n",
       "      <th>refrig</th>\n",
       "      <th>v18q1</th>\n",
       "      <th>r4h1</th>\n",
       "      <th>r4h2</th>\n",
       "      <th>...</th>\n",
       "      <th>rent_by_hhsize</th>\n",
       "      <th>rent_by_people</th>\n",
       "      <th>rent_by_rooms</th>\n",
       "      <th>rent_by_living</th>\n",
       "      <th>rent_by_minor</th>\n",
       "      <th>rent_by_adult</th>\n",
       "      <th>children_by_adults</th>\n",
       "      <th>house_quali</th>\n",
       "      <th>tablets_by_adults</th>\n",
       "      <th>ratio_nin</th>\n",
       "    </tr>\n",
       "  </thead>\n",
       "  <tbody>\n",
       "    <tr>\n",
       "      <th>0</th>\n",
       "      <td>ID_279628684</td>\n",
       "      <td>190000.0</td>\n",
       "      <td>0</td>\n",
       "      <td>3</td>\n",
       "      <td>0</td>\n",
       "      <td>1</td>\n",
       "      <td>1</td>\n",
       "      <td>0.0</td>\n",
       "      <td>0</td>\n",
       "      <td>1</td>\n",
       "      <td>...</td>\n",
       "      <td>190000.0</td>\n",
       "      <td>190000.0</td>\n",
       "      <td>63333.333333</td>\n",
       "      <td>190000.0</td>\n",
       "      <td>inf</td>\n",
       "      <td>190000.0</td>\n",
       "      <td>0.0</td>\n",
       "      <td>4</td>\n",
       "      <td>0.0</td>\n",
       "      <td>0.0</td>\n",
       "    </tr>\n",
       "    <tr>\n",
       "      <th>1</th>\n",
       "      <td>ID_f29eb3ddd</td>\n",
       "      <td>135000.0</td>\n",
       "      <td>0</td>\n",
       "      <td>4</td>\n",
       "      <td>0</td>\n",
       "      <td>1</td>\n",
       "      <td>1</td>\n",
       "      <td>1.0</td>\n",
       "      <td>0</td>\n",
       "      <td>1</td>\n",
       "      <td>...</td>\n",
       "      <td>135000.0</td>\n",
       "      <td>135000.0</td>\n",
       "      <td>33750.000000</td>\n",
       "      <td>135000.0</td>\n",
       "      <td>inf</td>\n",
       "      <td>135000.0</td>\n",
       "      <td>0.0</td>\n",
       "      <td>6</td>\n",
       "      <td>1.0</td>\n",
       "      <td>0.0</td>\n",
       "    </tr>\n",
       "    <tr>\n",
       "      <th>2</th>\n",
       "      <td>ID_68de51c94</td>\n",
       "      <td>NaN</td>\n",
       "      <td>0</td>\n",
       "      <td>8</td>\n",
       "      <td>0</td>\n",
       "      <td>1</td>\n",
       "      <td>1</td>\n",
       "      <td>0.0</td>\n",
       "      <td>0</td>\n",
       "      <td>0</td>\n",
       "      <td>...</td>\n",
       "      <td>NaN</td>\n",
       "      <td>NaN</td>\n",
       "      <td>NaN</td>\n",
       "      <td>NaN</td>\n",
       "      <td>NaN</td>\n",
       "      <td>NaN</td>\n",
       "      <td>0.0</td>\n",
       "      <td>8</td>\n",
       "      <td>0.0</td>\n",
       "      <td>0.0</td>\n",
       "    </tr>\n",
       "    <tr>\n",
       "      <th>3</th>\n",
       "      <td>ID_d671db89c</td>\n",
       "      <td>180000.0</td>\n",
       "      <td>0</td>\n",
       "      <td>5</td>\n",
       "      <td>0</td>\n",
       "      <td>1</td>\n",
       "      <td>1</td>\n",
       "      <td>1.0</td>\n",
       "      <td>0</td>\n",
       "      <td>2</td>\n",
       "      <td>...</td>\n",
       "      <td>45000.0</td>\n",
       "      <td>45000.0</td>\n",
       "      <td>36000.000000</td>\n",
       "      <td>45000.0</td>\n",
       "      <td>9.000000e+04</td>\n",
       "      <td>90000.0</td>\n",
       "      <td>1.0</td>\n",
       "      <td>9</td>\n",
       "      <td>0.5</td>\n",
       "      <td>1.0</td>\n",
       "    </tr>\n",
       "    <tr>\n",
       "      <th>4</th>\n",
       "      <td>ID_d56d6f5f5</td>\n",
       "      <td>180000.0</td>\n",
       "      <td>0</td>\n",
       "      <td>5</td>\n",
       "      <td>0</td>\n",
       "      <td>1</td>\n",
       "      <td>1</td>\n",
       "      <td>1.0</td>\n",
       "      <td>0</td>\n",
       "      <td>2</td>\n",
       "      <td>...</td>\n",
       "      <td>45000.0</td>\n",
       "      <td>45000.0</td>\n",
       "      <td>36000.000000</td>\n",
       "      <td>45000.0</td>\n",
       "      <td>9.000000e+04</td>\n",
       "      <td>90000.0</td>\n",
       "      <td>1.0</td>\n",
       "      <td>9</td>\n",
       "      <td>0.5</td>\n",
       "      <td>1.0</td>\n",
       "    </tr>\n",
       "    <tr>\n",
       "      <th>5</th>\n",
       "      <td>ID_ec05b1a7b</td>\n",
       "      <td>180000.0</td>\n",
       "      <td>0</td>\n",
       "      <td>5</td>\n",
       "      <td>0</td>\n",
       "      <td>1</td>\n",
       "      <td>1</td>\n",
       "      <td>1.0</td>\n",
       "      <td>0</td>\n",
       "      <td>2</td>\n",
       "      <td>...</td>\n",
       "      <td>45000.0</td>\n",
       "      <td>45000.0</td>\n",
       "      <td>36000.000000</td>\n",
       "      <td>45000.0</td>\n",
       "      <td>9.000000e+04</td>\n",
       "      <td>90000.0</td>\n",
       "      <td>1.0</td>\n",
       "      <td>9</td>\n",
       "      <td>0.5</td>\n",
       "      <td>1.0</td>\n",
       "    </tr>\n",
       "    <tr>\n",
       "      <th>6</th>\n",
       "      <td>ID_e9e0c1100</td>\n",
       "      <td>180000.0</td>\n",
       "      <td>0</td>\n",
       "      <td>5</td>\n",
       "      <td>0</td>\n",
       "      <td>1</td>\n",
       "      <td>1</td>\n",
       "      <td>1.0</td>\n",
       "      <td>0</td>\n",
       "      <td>2</td>\n",
       "      <td>...</td>\n",
       "      <td>45000.0</td>\n",
       "      <td>45000.0</td>\n",
       "      <td>36000.000000</td>\n",
       "      <td>45000.0</td>\n",
       "      <td>9.000000e+04</td>\n",
       "      <td>90000.0</td>\n",
       "      <td>1.0</td>\n",
       "      <td>9</td>\n",
       "      <td>0.5</td>\n",
       "      <td>1.0</td>\n",
       "    </tr>\n",
       "    <tr>\n",
       "      <th>7</th>\n",
       "      <td>ID_3e04e571e</td>\n",
       "      <td>130000.0</td>\n",
       "      <td>1</td>\n",
       "      <td>2</td>\n",
       "      <td>0</td>\n",
       "      <td>1</td>\n",
       "      <td>1</td>\n",
       "      <td>0.0</td>\n",
       "      <td>0</td>\n",
       "      <td>1</td>\n",
       "      <td>...</td>\n",
       "      <td>32500.0</td>\n",
       "      <td>32500.0</td>\n",
       "      <td>65000.000000</td>\n",
       "      <td>32500.0</td>\n",
       "      <td>6.500000e+04</td>\n",
       "      <td>65000.0</td>\n",
       "      <td>1.0</td>\n",
       "      <td>4</td>\n",
       "      <td>0.0</td>\n",
       "      <td>1.0</td>\n",
       "    </tr>\n",
       "    <tr>\n",
       "      <th>8</th>\n",
       "      <td>ID_1284f8aad</td>\n",
       "      <td>130000.0</td>\n",
       "      <td>1</td>\n",
       "      <td>2</td>\n",
       "      <td>0</td>\n",
       "      <td>1</td>\n",
       "      <td>1</td>\n",
       "      <td>0.0</td>\n",
       "      <td>0</td>\n",
       "      <td>1</td>\n",
       "      <td>...</td>\n",
       "      <td>32500.0</td>\n",
       "      <td>32500.0</td>\n",
       "      <td>65000.000000</td>\n",
       "      <td>32500.0</td>\n",
       "      <td>6.500000e+04</td>\n",
       "      <td>65000.0</td>\n",
       "      <td>1.0</td>\n",
       "      <td>4</td>\n",
       "      <td>0.0</td>\n",
       "      <td>1.0</td>\n",
       "    </tr>\n",
       "    <tr>\n",
       "      <th>9</th>\n",
       "      <td>ID_51f52fdd2</td>\n",
       "      <td>130000.0</td>\n",
       "      <td>1</td>\n",
       "      <td>2</td>\n",
       "      <td>0</td>\n",
       "      <td>1</td>\n",
       "      <td>1</td>\n",
       "      <td>0.0</td>\n",
       "      <td>0</td>\n",
       "      <td>1</td>\n",
       "      <td>...</td>\n",
       "      <td>32500.0</td>\n",
       "      <td>32500.0</td>\n",
       "      <td>65000.000000</td>\n",
       "      <td>32500.0</td>\n",
       "      <td>6.500000e+04</td>\n",
       "      <td>65000.0</td>\n",
       "      <td>1.0</td>\n",
       "      <td>4</td>\n",
       "      <td>0.0</td>\n",
       "      <td>1.0</td>\n",
       "    </tr>\n",
       "    <tr>\n",
       "      <th>10</th>\n",
       "      <td>ID_db44f5c59</td>\n",
       "      <td>130000.0</td>\n",
       "      <td>1</td>\n",
       "      <td>2</td>\n",
       "      <td>0</td>\n",
       "      <td>1</td>\n",
       "      <td>1</td>\n",
       "      <td>0.0</td>\n",
       "      <td>0</td>\n",
       "      <td>1</td>\n",
       "      <td>...</td>\n",
       "      <td>32500.0</td>\n",
       "      <td>32500.0</td>\n",
       "      <td>65000.000000</td>\n",
       "      <td>32500.0</td>\n",
       "      <td>6.500000e+04</td>\n",
       "      <td>65000.0</td>\n",
       "      <td>1.0</td>\n",
       "      <td>4</td>\n",
       "      <td>0.0</td>\n",
       "      <td>1.0</td>\n",
       "    </tr>\n",
       "    <tr>\n",
       "      <th>11</th>\n",
       "      <td>ID_de822510c</td>\n",
       "      <td>100000.0</td>\n",
       "      <td>0</td>\n",
       "      <td>3</td>\n",
       "      <td>0</td>\n",
       "      <td>1</td>\n",
       "      <td>1</td>\n",
       "      <td>0.0</td>\n",
       "      <td>0</td>\n",
       "      <td>0</td>\n",
       "      <td>...</td>\n",
       "      <td>50000.0</td>\n",
       "      <td>50000.0</td>\n",
       "      <td>33333.333333</td>\n",
       "      <td>50000.0</td>\n",
       "      <td>1.000000e+05</td>\n",
       "      <td>100000.0</td>\n",
       "      <td>1.0</td>\n",
       "      <td>9</td>\n",
       "      <td>0.0</td>\n",
       "      <td>1.0</td>\n",
       "    </tr>\n",
       "    <tr>\n",
       "      <th>12</th>\n",
       "      <td>ID_d94071d7c</td>\n",
       "      <td>100000.0</td>\n",
       "      <td>0</td>\n",
       "      <td>3</td>\n",
       "      <td>0</td>\n",
       "      <td>1</td>\n",
       "      <td>1</td>\n",
       "      <td>0.0</td>\n",
       "      <td>0</td>\n",
       "      <td>0</td>\n",
       "      <td>...</td>\n",
       "      <td>50000.0</td>\n",
       "      <td>50000.0</td>\n",
       "      <td>33333.333333</td>\n",
       "      <td>50000.0</td>\n",
       "      <td>1.000000e+05</td>\n",
       "      <td>100000.0</td>\n",
       "      <td>1.0</td>\n",
       "      <td>9</td>\n",
       "      <td>0.0</td>\n",
       "      <td>1.0</td>\n",
       "    </tr>\n",
       "    <tr>\n",
       "      <th>13</th>\n",
       "      <td>ID_064b57869</td>\n",
       "      <td>NaN</td>\n",
       "      <td>0</td>\n",
       "      <td>4</td>\n",
       "      <td>0</td>\n",
       "      <td>1</td>\n",
       "      <td>1</td>\n",
       "      <td>1.0</td>\n",
       "      <td>0</td>\n",
       "      <td>1</td>\n",
       "      <td>...</td>\n",
       "      <td>NaN</td>\n",
       "      <td>NaN</td>\n",
       "      <td>NaN</td>\n",
       "      <td>NaN</td>\n",
       "      <td>NaN</td>\n",
       "      <td>NaN</td>\n",
       "      <td>0.0</td>\n",
       "      <td>8</td>\n",
       "      <td>0.5</td>\n",
       "      <td>0.0</td>\n",
       "    </tr>\n",
       "    <tr>\n",
       "      <th>14</th>\n",
       "      <td>ID_5c837d8a4</td>\n",
       "      <td>NaN</td>\n",
       "      <td>0</td>\n",
       "      <td>4</td>\n",
       "      <td>0</td>\n",
       "      <td>1</td>\n",
       "      <td>1</td>\n",
       "      <td>1.0</td>\n",
       "      <td>0</td>\n",
       "      <td>1</td>\n",
       "      <td>...</td>\n",
       "      <td>NaN</td>\n",
       "      <td>NaN</td>\n",
       "      <td>NaN</td>\n",
       "      <td>NaN</td>\n",
       "      <td>NaN</td>\n",
       "      <td>NaN</td>\n",
       "      <td>0.0</td>\n",
       "      <td>8</td>\n",
       "      <td>0.5</td>\n",
       "      <td>0.0</td>\n",
       "    </tr>\n",
       "  </tbody>\n",
       "</table>\n",
       "<p>15 rows × 122 columns</p>\n",
       "</div>"
      ],
      "text/plain": [
       "              Id      v2a1  hacdor  rooms  hacapo  v14a  refrig  v18q1  r4h1  \\\n",
       "0   ID_279628684  190000.0       0      3       0     1       1    0.0     0   \n",
       "1   ID_f29eb3ddd  135000.0       0      4       0     1       1    1.0     0   \n",
       "2   ID_68de51c94       NaN       0      8       0     1       1    0.0     0   \n",
       "3   ID_d671db89c  180000.0       0      5       0     1       1    1.0     0   \n",
       "4   ID_d56d6f5f5  180000.0       0      5       0     1       1    1.0     0   \n",
       "5   ID_ec05b1a7b  180000.0       0      5       0     1       1    1.0     0   \n",
       "6   ID_e9e0c1100  180000.0       0      5       0     1       1    1.0     0   \n",
       "7   ID_3e04e571e  130000.0       1      2       0     1       1    0.0     0   \n",
       "8   ID_1284f8aad  130000.0       1      2       0     1       1    0.0     0   \n",
       "9   ID_51f52fdd2  130000.0       1      2       0     1       1    0.0     0   \n",
       "10  ID_db44f5c59  130000.0       1      2       0     1       1    0.0     0   \n",
       "11  ID_de822510c  100000.0       0      3       0     1       1    0.0     0   \n",
       "12  ID_d94071d7c  100000.0       0      3       0     1       1    0.0     0   \n",
       "13  ID_064b57869       NaN       0      4       0     1       1    1.0     0   \n",
       "14  ID_5c837d8a4       NaN       0      4       0     1       1    1.0     0   \n",
       "\n",
       "    r4h2    ...      rent_by_hhsize  rent_by_people  rent_by_rooms  \\\n",
       "0      1    ...            190000.0        190000.0   63333.333333   \n",
       "1      1    ...            135000.0        135000.0   33750.000000   \n",
       "2      0    ...                 NaN             NaN            NaN   \n",
       "3      2    ...             45000.0         45000.0   36000.000000   \n",
       "4      2    ...             45000.0         45000.0   36000.000000   \n",
       "5      2    ...             45000.0         45000.0   36000.000000   \n",
       "6      2    ...             45000.0         45000.0   36000.000000   \n",
       "7      1    ...             32500.0         32500.0   65000.000000   \n",
       "8      1    ...             32500.0         32500.0   65000.000000   \n",
       "9      1    ...             32500.0         32500.0   65000.000000   \n",
       "10     1    ...             32500.0         32500.0   65000.000000   \n",
       "11     0    ...             50000.0         50000.0   33333.333333   \n",
       "12     0    ...             50000.0         50000.0   33333.333333   \n",
       "13     1    ...                 NaN             NaN            NaN   \n",
       "14     1    ...                 NaN             NaN            NaN   \n",
       "\n",
       "    rent_by_living  rent_by_minor  rent_by_adult  children_by_adults  \\\n",
       "0         190000.0            inf       190000.0                 0.0   \n",
       "1         135000.0            inf       135000.0                 0.0   \n",
       "2              NaN            NaN            NaN                 0.0   \n",
       "3          45000.0   9.000000e+04        90000.0                 1.0   \n",
       "4          45000.0   9.000000e+04        90000.0                 1.0   \n",
       "5          45000.0   9.000000e+04        90000.0                 1.0   \n",
       "6          45000.0   9.000000e+04        90000.0                 1.0   \n",
       "7          32500.0   6.500000e+04        65000.0                 1.0   \n",
       "8          32500.0   6.500000e+04        65000.0                 1.0   \n",
       "9          32500.0   6.500000e+04        65000.0                 1.0   \n",
       "10         32500.0   6.500000e+04        65000.0                 1.0   \n",
       "11         50000.0   1.000000e+05       100000.0                 1.0   \n",
       "12         50000.0   1.000000e+05       100000.0                 1.0   \n",
       "13             NaN            NaN            NaN                 0.0   \n",
       "14             NaN            NaN            NaN                 0.0   \n",
       "\n",
       "    house_quali  tablets_by_adults  ratio_nin  \n",
       "0             4                0.0        0.0  \n",
       "1             6                1.0        0.0  \n",
       "2             8                0.0        0.0  \n",
       "3             9                0.5        1.0  \n",
       "4             9                0.5        1.0  \n",
       "5             9                0.5        1.0  \n",
       "6             9                0.5        1.0  \n",
       "7             4                0.0        1.0  \n",
       "8             4                0.0        1.0  \n",
       "9             4                0.0        1.0  \n",
       "10            4                0.0        1.0  \n",
       "11            9                0.0        1.0  \n",
       "12            9                0.0        1.0  \n",
       "13            8                0.5        0.0  \n",
       "14            8                0.5        0.0  \n",
       "\n",
       "[15 rows x 122 columns]"
      ]
     },
     "execution_count": 29,
     "metadata": {},
     "output_type": "execute_result"
    }
   ],
   "source": [
    "df.head(15)"
   ]
  },
  {
   "cell_type": "markdown",
   "metadata": {
    "_uuid": "09a497537cbee54ebf621b51246e2297ab256f0e"
   },
   "source": [
    "## Modeling\n",
    "\n",
    "For this classification we use LightGBM with stratified k-fold cross validation as the classes are quite imbalanced."
   ]
  },
  {
   "cell_type": "code",
   "execution_count": 30,
   "metadata": {
    "_uuid": "6e4660dcb352035c2b69055f2726f5033f27c499"
   },
   "outputs": [
    {
     "name": "stdout",
     "output_type": "stream",
     "text": [
      "Fold  0\n"
     ]
    },
    {
     "name": "stderr",
     "output_type": "stream",
     "text": [
      "C:\\Users\\Stefanie\\Anaconda3\\lib\\site-packages\\lightgbm\\engine.py:107: UserWarning: Found `early_stopping_rounds` in params. Will use it instead of argument\n",
      "  warnings.warn(\"Found `{}` in params. Will use it instead of argument\".format(alias))\n"
     ]
    },
    {
     "name": "stdout",
     "output_type": "stream",
     "text": [
      "Training until validation scores don't improve for 200 rounds.\n",
      "[100]\ttraining's multi_error: 0.000555967\tvalid_1's multi_error: 0.0438871\n",
      "Did not meet early stopping. Best iteration is:\n",
      "[99]\ttraining's multi_error: 0.000509637\tvalid_1's multi_error: 0.0449321\n",
      "Fold  1\n"
     ]
    },
    {
     "name": "stderr",
     "output_type": "stream",
     "text": [
      "C:\\Users\\Stefanie\\Anaconda3\\lib\\site-packages\\lightgbm\\engine.py:107: UserWarning: Found `early_stopping_rounds` in params. Will use it instead of argument\n",
      "  warnings.warn(\"Found `{}` in params. Will use it instead of argument\".format(alias))\n"
     ]
    },
    {
     "name": "stdout",
     "output_type": "stream",
     "text": [
      "Training until validation scores don't improve for 200 rounds.\n",
      "[100]\ttraining's multi_error: 0.000648629\tvalid_1's multi_error: 0.0564263\n",
      "Did not meet early stopping. Best iteration is:\n",
      "[100]\ttraining's multi_error: 0.000648629\tvalid_1's multi_error: 0.0564263\n",
      "Fold  2\n"
     ]
    },
    {
     "name": "stderr",
     "output_type": "stream",
     "text": [
      "C:\\Users\\Stefanie\\Anaconda3\\lib\\site-packages\\lightgbm\\engine.py:107: UserWarning: Found `early_stopping_rounds` in params. Will use it instead of argument\n",
      "  warnings.warn(\"Found `{}` in params. Will use it instead of argument\".format(alias))\n"
     ]
    },
    {
     "name": "stdout",
     "output_type": "stream",
     "text": [
      "Training until validation scores don't improve for 200 rounds.\n",
      "[100]\ttraining's multi_error: 0.000648629\tvalid_1's multi_error: 0.0512017\n",
      "Did not meet early stopping. Best iteration is:\n",
      "[100]\ttraining's multi_error: 0.000648629\tvalid_1's multi_error: 0.0512017\n",
      "Fold  3\n"
     ]
    },
    {
     "name": "stderr",
     "output_type": "stream",
     "text": [
      "C:\\Users\\Stefanie\\Anaconda3\\lib\\site-packages\\lightgbm\\engine.py:107: UserWarning: Found `early_stopping_rounds` in params. Will use it instead of argument\n",
      "  warnings.warn(\"Found `{}` in params. Will use it instead of argument\".format(alias))\n"
     ]
    },
    {
     "name": "stdout",
     "output_type": "stream",
     "text": [
      "Training until validation scores don't improve for 200 rounds.\n",
      "[100]\ttraining's multi_error: 0.000602298\tvalid_1's multi_error: 0.0585162\n",
      "Did not meet early stopping. Best iteration is:\n",
      "[100]\ttraining's multi_error: 0.000602298\tvalid_1's multi_error: 0.0585162\n",
      "Fold  4\n"
     ]
    },
    {
     "name": "stderr",
     "output_type": "stream",
     "text": [
      "C:\\Users\\Stefanie\\Anaconda3\\lib\\site-packages\\lightgbm\\engine.py:107: UserWarning: Found `early_stopping_rounds` in params. Will use it instead of argument\n",
      "  warnings.warn(\"Found `{}` in params. Will use it instead of argument\".format(alias))\n"
     ]
    },
    {
     "name": "stdout",
     "output_type": "stream",
     "text": [
      "Training until validation scores don't improve for 200 rounds.\n",
      "[100]\ttraining's multi_error: 0.000833951\tvalid_1's multi_error: 0.0334378\n",
      "Did not meet early stopping. Best iteration is:\n",
      "[100]\ttraining's multi_error: 0.000833951\tvalid_1's multi_error: 0.0334378\n",
      "Fold  5\n"
     ]
    },
    {
     "name": "stderr",
     "output_type": "stream",
     "text": [
      "C:\\Users\\Stefanie\\Anaconda3\\lib\\site-packages\\lightgbm\\engine.py:107: UserWarning: Found `early_stopping_rounds` in params. Will use it instead of argument\n",
      "  warnings.warn(\"Found `{}` in params. Will use it instead of argument\".format(alias))\n"
     ]
    },
    {
     "name": "stdout",
     "output_type": "stream",
     "text": [
      "Training until validation scores don't improve for 200 rounds.\n",
      "[100]\ttraining's multi_error: 0.000694959\tvalid_1's multi_error: 0.042887\n",
      "Did not meet early stopping. Best iteration is:\n",
      "[100]\ttraining's multi_error: 0.000694959\tvalid_1's multi_error: 0.042887\n",
      "Fold  6\n"
     ]
    },
    {
     "name": "stderr",
     "output_type": "stream",
     "text": [
      "C:\\Users\\Stefanie\\Anaconda3\\lib\\site-packages\\lightgbm\\engine.py:107: UserWarning: Found `early_stopping_rounds` in params. Will use it instead of argument\n",
      "  warnings.warn(\"Found `{}` in params. Will use it instead of argument\".format(alias))\n"
     ]
    },
    {
     "name": "stdout",
     "output_type": "stream",
     "text": [
      "Training until validation scores don't improve for 200 rounds.\n",
      "[100]\ttraining's multi_error: 0.000926441\tvalid_1's multi_error: 0.0481675\n",
      "Did not meet early stopping. Best iteration is:\n",
      "[97]\ttraining's multi_error: 0.000926441\tvalid_1's multi_error: 0.0481675\n",
      "Fold  7\n"
     ]
    },
    {
     "name": "stderr",
     "output_type": "stream",
     "text": [
      "C:\\Users\\Stefanie\\Anaconda3\\lib\\site-packages\\lightgbm\\engine.py:107: UserWarning: Found `early_stopping_rounds` in params. Will use it instead of argument\n",
      "  warnings.warn(\"Found `{}` in params. Will use it instead of argument\".format(alias))\n"
     ]
    },
    {
     "name": "stdout",
     "output_type": "stream",
     "text": [
      "Training until validation scores don't improve for 200 rounds.\n",
      "[100]\ttraining's multi_error: 0.00069483\tvalid_1's multi_error: 0.0345912\n",
      "Did not meet early stopping. Best iteration is:\n",
      "[98]\ttraining's multi_error: 0.00069483\tvalid_1's multi_error: 0.0345912\n",
      "Fold  8\n"
     ]
    },
    {
     "name": "stderr",
     "output_type": "stream",
     "text": [
      "C:\\Users\\Stefanie\\Anaconda3\\lib\\site-packages\\lightgbm\\engine.py:107: UserWarning: Found `early_stopping_rounds` in params. Will use it instead of argument\n",
      "  warnings.warn(\"Found `{}` in params. Will use it instead of argument\".format(alias))\n"
     ]
    },
    {
     "name": "stdout",
     "output_type": "stream",
     "text": [
      "Training until validation scores don't improve for 200 rounds.\n",
      "[100]\ttraining's multi_error: 0.00046322\tvalid_1's multi_error: 0.0555556\n",
      "Did not meet early stopping. Best iteration is:\n",
      "[100]\ttraining's multi_error: 0.00046322\tvalid_1's multi_error: 0.0555556\n",
      "Fold  9\n"
     ]
    },
    {
     "name": "stderr",
     "output_type": "stream",
     "text": [
      "C:\\Users\\Stefanie\\Anaconda3\\lib\\site-packages\\lightgbm\\engine.py:107: UserWarning: Found `early_stopping_rounds` in params. Will use it instead of argument\n",
      "  warnings.warn(\"Found `{}` in params. Will use it instead of argument\".format(alias))\n"
     ]
    },
    {
     "name": "stdout",
     "output_type": "stream",
     "text": [
      "Training until validation scores don't improve for 200 rounds.\n",
      "[100]\ttraining's multi_error: 0.000833797\tvalid_1's multi_error: 0.0608604\n",
      "Did not meet early stopping. Best iteration is:\n",
      "[100]\ttraining's multi_error: 0.000833797\tvalid_1's multi_error: 0.0608604\n"
     ]
    }
   ],
   "source": [
    "# Use all columns as features except Ids and Target\n",
    "feats = [f for f in df.columns if f not in ['Id','Target','idhogar']]\n",
    "\n",
    "# 10 folds\n",
    "folds = StratifiedKFold(n_splits= 10, shuffle=True, random_state=1054)\n",
    "\n",
    "# matrix for predictions\n",
    "preds = np.zeros((df_test.shape[0], 4))\n",
    "\n",
    "# iterate through folds\n",
    "for n_fold, (train_idx, valid_idx) in enumerate(folds.split(df[feats], df['Target'])):\n",
    "    print('Fold ', n_fold)\n",
    "    train_x, train_y = df.iloc[train_idx], df['Target'].iloc[train_idx]\n",
    "    valid_x, valid_y = df.iloc[valid_idx], df['Target'].iloc[valid_idx]\n",
    "    \n",
    "    # eliminate unnecessary features\n",
    "    train_x = train_x[feats]\n",
    "    valid_x = valid_x[feats]\n",
    "    \n",
    "    # create and fit model\n",
    "    gbm = lgb.LGBMClassifier(n_jobs=4, random_state=0, class_weight='balanced', num_leaves = 100, learning_rate = 0.1, early_stopping_rounds = 200)\n",
    "    gbm.fit(train_x, train_y, eval_set=[(train_x, train_y), (valid_x, valid_y)], \n",
    "                    verbose= 100, eval_metric = 'multi_error')\n",
    "    \n",
    "    # mean of predictions for argmax later on \n",
    "    preds += gbm.predict_proba(df_test[feats]) / folds.n_splits"
   ]
  },
  {
   "cell_type": "markdown",
   "metadata": {
    "_uuid": "2c58aafba245941b0fbde633c7e14539d7e3e1cf"
   },
   "source": [
    "## Create Submission"
   ]
  },
  {
   "cell_type": "code",
   "execution_count": 31,
   "metadata": {
    "_uuid": "be26586e50a7342f50cd9a5b385e8fa96795d642",
    "collapsed": true
   },
   "outputs": [],
   "source": [
    "# predicted class is the one with the highest prediction value\n",
    "pred_maj = np.argmax(preds, axis = 1) + 1"
   ]
  },
  {
   "cell_type": "code",
   "execution_count": 32,
   "metadata": {
    "_uuid": "9cf47400698ff8ff8f42e456b91f4f7f95b7c46f",
    "collapsed": true
   },
   "outputs": [],
   "source": [
    "df_test['Target'] = pred_maj.astype(int)\n",
    "df_test[['Id', 'Target']].to_csv('submission_180831_lgbm.csv', index= False)"
   ]
  },
  {
   "cell_type": "code",
   "execution_count": 33,
   "metadata": {
    "_uuid": "27ff999f7e96c16bc12e94e96a4f8240b12a1f5b"
   },
   "outputs": [
    {
     "data": {
      "text/plain": [
       "4    16288\n",
       "2     4263\n",
       "3     1994\n",
       "1     1311\n",
       "Name: Target, dtype: int64"
      ]
     },
     "execution_count": 33,
     "metadata": {},
     "output_type": "execute_result"
    }
   ],
   "source": [
    "df_test['Target'].value_counts()"
   ]
  }
 ],
 "metadata": {
  "kernelspec": {
   "display_name": "Python 3",
   "language": "python",
   "name": "python3"
  },
  "language_info": {
   "codemirror_mode": {
    "name": "ipython",
    "version": 3
   },
   "file_extension": ".py",
   "mimetype": "text/x-python",
   "name": "python",
   "nbconvert_exporter": "python",
   "pygments_lexer": "ipython3",
   "version": "3.6.1"
  }
 },
 "nbformat": 4,
 "nbformat_minor": 1
}
